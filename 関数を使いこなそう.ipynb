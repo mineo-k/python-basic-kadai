{
  "nbformat": 4,
  "nbformat_minor": 0,
  "metadata": {
    "colab": {
      "provenance": [],
      "authorship_tag": "ABX9TyMF9O34gLlXyKkFOM3v9LLD",
      "include_colab_link": true
    },
    "kernelspec": {
      "name": "python3",
      "display_name": "Python 3"
    },
    "language_info": {
      "name": "python"
    }
  },
  "cells": [
    {
      "cell_type": "markdown",
      "metadata": {
        "id": "view-in-github",
        "colab_type": "text"
      },
      "source": [
        "<a href=\"https://colab.research.google.com/github/mineo-k/python-basic-kadai/blob/main/%E9%96%A2%E6%95%B0%E3%82%92%E4%BD%BF%E3%81%84%E3%81%93%E3%81%AA%E3%81%9D%E3%81%86.ipynb\" target=\"_parent\"><img src=\"https://colab.research.google.com/assets/colab-badge.svg\" alt=\"Open In Colab\"/></a>"
      ]
    },
    {
      "cell_type": "code",
      "execution_count": 9,
      "metadata": {
        "colab": {
          "base_uri": "https://localhost:8080/"
        },
        "id": "xCq878xSPt9V",
        "outputId": "de25deca-6c9c-4699-e02d-bbc547047e4a"
      },
      "outputs": [
        {
          "output_type": "stream",
          "name": "stdout",
          "text": [
            "5500.0円\n"
          ]
        }
      ],
      "source": [
        "def tax_included(price,tax):\n",
        "  consumption_tax=price * (tax / 100)\n",
        "  total_amaount=price + consumption_tax\n",
        "  return total_amaount\n",
        "\n",
        "total=tax_included(5000,10)\n",
        "print(f\"{total}円\")"
      ]
    }
  ]
}