{
  "nbformat": 4,
  "nbformat_minor": 0,
  "metadata": {
    "colab": {
      "provenance": []
    },
    "kernelspec": {
      "name": "python3",
      "display_name": "Python 3"
    },
    "language_info": {
      "name": "python"
    }
  },
  "cells": [
    {
      "cell_type": "code",
      "execution_count": 1,
      "metadata": {
        "colab": {
          "base_uri": "https://localhost:8080/"
        },
        "id": "F-GU_DZHRfa4",
        "outputId": "ff8f41de-b483-4387-c875-8c0389f100b9"
      },
      "outputs": [
        {
          "output_type": "stream",
          "name": "stdout",
          "text": [
            "75.0cm²\n"
          ]
        }
      ],
      "source": [
        "top_side=10\n",
        "bottom_side=20\n",
        "height=5\n",
        "\n",
        "area=(top_side+bottom_side)*height/2\n",
        "print(str(area)+\"cm²\")"
      ]
    }
  ]
}